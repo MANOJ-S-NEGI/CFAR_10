{
 "cells": [
  {
   "cell_type": "code",
   "execution_count": 1,
   "id": "00351a0c",
   "metadata": {},
   "outputs": [],
   "source": [
    "# import libraries:\n",
    "import pandas as pd\n",
    "import os\n",
    "import random\n",
    "import shutil"
   ]
  },
  {
   "cell_type": "code",
   "execution_count": null,
   "id": "8fb251c7",
   "metadata": {},
   "outputs": [],
   "source": [
    "# importing the label in csv\n",
    "cfar_data = pd.read_csv(\"Assignment_2/trainLabels.csv\")\n",
    "\n",
    "# putting into dataframe\n",
    "cfar_dataframe = pd.DataFrame(cfar_data)\n",
    "\n",
    "\n",
    "## cheaking file:\n",
    "cfar_dataframe.head(2)"
   ]
  },
  {
   "cell_type": "code",
   "execution_count": null,
   "id": "6054fd14",
   "metadata": {},
   "outputs": [],
   "source": [
    "## assigning destination path:\n",
    "destination_image_dataset_dir = \"Assignment_2/cfar_10_training/\"\n",
    "current_train_data_path = \"Assignment_2/cfar_10_train_dataset/\"\n",
    "total_images = len(cfar_dataframe)\n",
    "total_images"
   ]
  },
  {
   "cell_type": "code",
   "execution_count": null,
   "id": "444d79e9",
   "metadata": {},
   "outputs": [],
   "source": [
    "# Distributing images according to their label folders:\n",
    "\n",
    "for i in range((total_images)):\n",
    "    source_full_image_path = f\"{current_train_data_path}{cfar_dataframe.id[i]}.png\"\n",
    "    destination_full_image_path = f\"{destination_image_dataset_dir}{cfar_dataframe.label[i]}\"\n",
    "    \n",
    "    # make destination folder:\n",
    "    os.makedirs(destination_full_image_path,exist_ok = \"True\")\n",
    "    # move file from source to destination (in their name folders):\n",
    "    shutil.move(source_full_image_path,destination_full_image_path)"
   ]
  },
  {
   "cell_type": "code",
   "execution_count": null,
   "id": "bf1fd63b",
   "metadata": {},
   "outputs": [],
   "source": [
    "# distributing the data into train and validation data:\n",
    "\n",
    "\n",
    "dir_folder=os.listdir(destination_image_dataset_dir)\n",
    "# create the train path:\n",
    "train_path = \"Assignment_2/cfar_10_new_dataset/train_data/\"\n",
    "os.makedirs(train_path, exist_ok=True)\n",
    "# create the test path:\n",
    "validation_path = \"Assignment_2/cfar_10_new_dataset/validation_data/\"\n",
    "os.makedirs(validation_path, exist_ok=True)\n",
    "\n",
    "\n",
    "# getting label for prediction:\n",
    "cfar_labels =[]\n",
    "for i in range(len(dir_folder)):\n",
    "    cfar_labels.append(dir_folder[i])\n",
    "    \n",
    "    \n",
    "    \n",
    "# getting labelpath dir:\n",
    "cfar_label_path = []\n",
    "for dirpath, dirnames, filenames in os.walk(destination_image_dataset_dir):\n",
    "        cfar_label_path.append(dirpath)\n",
    "        \n",
    "# getting label under their respective labels:\n",
    "cfar_label_path = cfar_label_path[1:]\n",
    "\n",
    "\n",
    "# distribution of images to train and validation floder :\n",
    "for i in range(len(cfar_labels)):\n",
    "    filename = []\n",
    "    #print(cfar_label_path[i])\n",
    "    dirname = cfar_label_path[i]\n",
    "    filename.append(os.listdir(dirname))\n",
    "    filename = filename[0]\n",
    "    \n",
    "    ## creating train path \n",
    "    train_destination_dir = f\"{train_path}{cfar_labels[i]}\"    \n",
    "    os.makedirs(train_destination_dir,exist_ok=True)\n",
    "    \n",
    "    #creating  validation path\n",
    "    validation_destination_dir = f\"{validation_path}{cfar_labels[i]}\"\n",
    "    os.makedirs(validation_destination_dir,exist_ok=True)\n",
    "    \n",
    "    for j in range(len(filename)):\n",
    "        ## distributing file into train and validation folders as total images are 1000/folder\n",
    "        # so if in train dir x folder less than 550 then move here,\n",
    "        if len(os.listdir(train_destination_dir)) != 3000: #round(5000 *60 /100):            \n",
    "            shutil.move(f\"{dirname}/{filename[j]}\",train_destination_dir)\n",
    "            \n",
    "        else:\n",
    "            shutil.move(f\"{dirname}/{filename[j]}\",validation_destination_dir)"
   ]
  },
  {
   "cell_type": "code",
   "execution_count": 2,
   "id": "9d4ff5ff",
   "metadata": {},
   "outputs": [
    {
     "name": "stdout",
     "output_type": "stream",
     "text": [
      "Assignment_2/cfar_10_new_dataset/train_data/\n",
      "Assignment_2/cfar_10_new_dataset/validation_data/\n"
     ]
    }
   ],
   "source": [
    "## now we have train and validation dir as:\n",
    "train_path = \"Assignment_2/cfar_10_new_dataset/train_data/\"\n",
    "validation_path = \"Assignment_2/cfar_10_new_dataset/validation_data/\"\n",
    "\n",
    "# train path:\n",
    "print(train_path)\n",
    "# validation path:\n",
    "print(validation_path)"
   ]
  },
  {
   "cell_type": "markdown",
   "id": "47d5fb8d",
   "metadata": {},
   "source": [
    "#### let's check the train imaged with label:"
   ]
  },
  {
   "cell_type": "code",
   "execution_count": 3,
   "id": "9f4bbb88",
   "metadata": {},
   "outputs": [
    {
     "name": "stdout",
     "output_type": "stream",
     "text": [
      "shape of image :(64, 64, 3)\n",
      "\n",
      "image dimension :3\n",
      "\n",
      "[[[0.4        0.3647059  0.34117648]\n",
      "  [0.4        0.37254903 0.3529412 ]\n",
      "  [0.39607844 0.3764706  0.34509805]\n",
      "  ...\n",
      "  [0.6039216  0.6431373  0.5529412 ]\n",
      "  [0.53333336 0.57254905 0.49411765]\n",
      "  [0.5019608  0.54901963 0.4745098 ]]\n",
      "\n",
      " [[0.40392157 0.37254903 0.34901962]\n",
      "  [0.40784314 0.37254903 0.35686275]\n",
      "  [0.39607844 0.37254903 0.34901962]\n",
      "  ...\n",
      "  [0.5764706  0.60784316 0.5058824 ]\n",
      "  [0.52156866 0.5568628  0.4627451 ]\n",
      "  [0.50980395 0.5294118  0.45490196]]\n",
      "\n",
      " [[0.4117647  0.37254903 0.3529412 ]\n",
      "  [0.41960785 0.38039216 0.36078432]\n",
      "  [0.40784314 0.38039216 0.35686275]\n",
      "  ...\n",
      "  [0.5137255  0.53333336 0.4392157 ]\n",
      "  [0.49411765 0.5058824  0.42745098]\n",
      "  [0.49803922 0.49411765 0.43137255]]\n",
      "\n",
      " ...\n",
      "\n",
      " [[0.40784314 0.39215687 0.32941177]\n",
      "  [0.4        0.38431373 0.31764707]\n",
      "  [0.38039216 0.3647059  0.29411766]\n",
      "  ...\n",
      "  [0.39607844 0.40784314 0.29803923]\n",
      "  [0.41960785 0.4392157  0.32156864]\n",
      "  [0.43529412 0.44313726 0.34117648]]\n",
      "\n",
      " [[0.39607844 0.4        0.3372549 ]\n",
      "  [0.39215687 0.39215687 0.3372549 ]\n",
      "  [0.3764706  0.38431373 0.31764707]\n",
      "  ...\n",
      "  [0.41568628 0.4392157  0.31764707]\n",
      "  [0.43137255 0.45490196 0.3372549 ]\n",
      "  [0.44705883 0.4627451  0.3529412 ]]\n",
      "\n",
      " [[0.3882353  0.39607844 0.34117648]\n",
      "  [0.38431373 0.3882353  0.33333334]\n",
      "  [0.37254903 0.38431373 0.32156864]\n",
      "  ...\n",
      "  [0.43529412 0.45490196 0.32941177]\n",
      "  [0.44705883 0.47058824 0.34901962]\n",
      "  [0.44705883 0.4745098  0.36862746]]]\n",
      "\n"
     ]
    }
   ],
   "source": [
    "import tensorflow as tf\n",
    "import matplotlib.pyplot as plt\n",
    "import numpy as np  \n",
    "import random\n",
    "\n",
    "# randomly choose any item:\n",
    "r = random.choice(range(len(os.listdir(train_path))))\n",
    "item = os.listdir(train_path)[r]\n",
    "random_path = f\"{train_path}/{item}\"\n",
    "\n",
    "# randomly choose any image of selected item\n",
    "image = os.listdir(random_path)[r]\n",
    "# image path decribe\n",
    "image_path= f\"{random_path}/{image}\"\n",
    "## converting the image intp float:\n",
    "random_image = plt.imread(image_path)\n",
    "## checking shape:\n",
    "print(f\"shape of image :{random_image.shape}\\n\")\n",
    "print(f\"image dimension :{np.ndim(random_image)}\\n\")\n",
    "\n",
    "print(f\"{random_image}\\n\")"
   ]
  },
  {
   "cell_type": "code",
   "execution_count": 4,
   "id": "259e7477",
   "metadata": {},
   "outputs": [
    {
     "data": {
      "image/png": "[encoded data removed]",
      "text/plain": [
       "<Figure size 432x288 with 1 Axes>"
      ]
     },
     "metadata": {
      "needs_background": "light"
     },
     "output_type": "display_data"
    }
   ],
   "source": [
    "## plot image with item name:\n",
    "plt.imshow(random_image)\n",
    "plt.title(item)\n",
    "plt.axis(False);"
   ]
  },
  {
   "cell_type": "markdown",
   "id": "3a3dea86",
   "metadata": {},
   "source": [
    "🔑 Note:"
   ]
  },
  {
   "cell_type": "code",
   "execution_count": 5,
   "id": "aa562483",
   "metadata": {},
   "outputs": [
    {
     "name": "stdout",
     "output_type": "stream",
     "text": [
      "Found 30000 images belonging to 10 classes.\n",
      "Found 20000 images belonging to 10 classes.\n"
     ]
    }
   ],
   "source": [
    "## since the images are not in desired shape we will precess image in different shape\n",
    "train_datagen = tf.keras.preprocessing.image.ImageDataGenerator(rescale = 1/255,\n",
    "                                                                shear_range = 0.2,\n",
    "                                                                zoom_range = 0.2,\n",
    "                                                                horizontal_flip = True,\n",
    "                                                                vertical_flip=True,\n",
    "                                                                )\n",
    "\n",
    "validation_datagen = tf.keras.preprocessing.image.ImageDataGenerator(rescale = 1/255)\n",
    "\n",
    "\n",
    "\n",
    "# Import data from directories and turn it into batches\n",
    "train_data = train_datagen.flow_from_directory(train_path,\n",
    "                                             shuffle=True,\n",
    "                                             target_size=(64,64),\n",
    "                                             class_mode='categorical',\n",
    "                                             batch_size=32)\n",
    "\n",
    "valid_data = validation_datagen.flow_from_directory(validation_path,\n",
    "                                             shuffle=True,\n",
    "                                             target_size=(64,64),\n",
    "                                             class_mode='categorical',\n",
    "                                             batch_size=32,\n",
    "                                             )\n"
   ]
  },
  {
   "cell_type": "code",
   "execution_count": 6,
   "id": "880ce597",
   "metadata": {},
   "outputs": [
    {
     "data": {
      "text/plain": [
       "(32, 32)"
      ]
     },
     "execution_count": 6,
     "metadata": {},
     "output_type": "execute_result"
    }
   ],
   "source": [
    "# Get a sample of the training data batch \n",
    "images, labels = train_data.next() # get the 'next' batch of images/labels\n",
    "len(images), len(labels)"
   ]
  },
  {
   "cell_type": "code",
   "execution_count": 16,
   "id": "9f8eed00",
   "metadata": {},
   "outputs": [
    {
     "name": "stdout",
     "output_type": "stream",
     "text": [
      "[0. 0. 1. 0. 0. 0. 0. 0. 0. 0.]\n"
     ]
    }
   ],
   "source": [
    "print(labels[0])"
   ]
  },
  {
   "cell_type": "code",
   "execution_count": 7,
   "id": "b4e54e29",
   "metadata": {},
   "outputs": [
    {
     "data": {
      "text/plain": [
       "(array([[[[0.15579827, 0.15908907, 0.17039973],\n",
       "          [0.15461989, 0.16162367, 0.1739691 ],\n",
       "          [0.16076487, 0.16469617, 0.17646271],\n",
       "          ...,\n",
       "          [0.33200115, 0.34830913, 0.35927013],\n",
       "          [0.3246984 , 0.33762145, 0.34876445],\n",
       "          [0.3142809 , 0.33240294, 0.34453353]],\n",
       " \n",
       "         [[0.15294118, 0.15100582, 0.16277052],\n",
       "          [0.15346728, 0.15508582, 0.16663621],\n",
       "          [0.16077004, 0.16468711, 0.17326255],\n",
       "          ...,\n",
       "          [0.3432292 , 0.36189708, 0.3642415 ],\n",
       "          [0.33890143, 0.35163206, 0.35933435],\n",
       "          [0.32891318, 0.34437487, 0.35548577]],\n",
       " \n",
       "         [[0.15954554, 0.1526476 , 0.16398862],\n",
       "          [0.1621148 , 0.15662313, 0.16524082],\n",
       "          [0.16078532, 0.16469987, 0.17254357],\n",
       "          ...,\n",
       "          [0.35153636, 0.3710896 , 0.37423453],\n",
       "          [0.35055935, 0.36337978, 0.37325755],\n",
       "          [0.34107685, 0.35596514, 0.36756068]],\n",
       " \n",
       "         ...,\n",
       " \n",
       "         [[0.8021982 , 0.76624197, 0.75215274],\n",
       "          [0.7976149 , 0.76179296, 0.74878174],\n",
       "          [0.8098037 , 0.7705334 , 0.75999355],\n",
       "          ...,\n",
       "          [0.5921171 , 0.51618   , 0.52878195],\n",
       "          [0.53879446, 0.46363136, 0.48431003],\n",
       "          [0.4188058 , 0.3591844 , 0.38988918]],\n",
       " \n",
       "         [[0.8610074 , 0.8260779 , 0.79783636],\n",
       "          [0.85543174, 0.82221556, 0.798446  ],\n",
       "          [0.8534085 , 0.8145601 , 0.79209495],\n",
       "          ...,\n",
       "          [0.58757955, 0.519479  , 0.53735685],\n",
       "          [0.47587097, 0.41750962, 0.44160664],\n",
       "          [0.38236555, 0.33361542, 0.36368176]],\n",
       " \n",
       "         [[0.9331421 , 0.9139002 , 0.8629002 ],\n",
       "          [0.9304588 , 0.9080826 , 0.86610377],\n",
       "          [0.91371626, 0.87708557, 0.8426796 ],\n",
       "          ...,\n",
       "          [0.5631776 , 0.48940504, 0.5137104 ],\n",
       "          [0.4127141 , 0.37545535, 0.38804957],\n",
       "          [0.36225381, 0.33097416, 0.34166312]]],\n",
       " \n",
       " \n",
       "        [[[0.43551633, 0.38046622, 0.2785795 ],\n",
       "          [0.43551633, 0.38046622, 0.2785795 ],\n",
       "          [0.43551633, 0.38046622, 0.2785795 ],\n",
       "          ...,\n",
       "          [0.7014424 , 0.6937474 , 0.6740655 ],\n",
       "          [0.7014424 , 0.6937474 , 0.6740655 ],\n",
       "          [0.7014424 , 0.6937474 , 0.6740655 ]],\n",
       " \n",
       "         [[0.44615352, 0.38401198, 0.28567097],\n",
       "          [0.44615352, 0.38401198, 0.28567097],\n",
       "          [0.44615352, 0.38401198, 0.28567097],\n",
       "          ...,\n",
       "          [0.6766223 , 0.6760187 , 0.6527911 ],\n",
       "          [0.6766223 , 0.6760187 , 0.6527911 ],\n",
       "          [0.6766223 , 0.6760187 , 0.6527911 ]],\n",
       " \n",
       "         [[0.44705886, 0.38755772, 0.28951848],\n",
       "          [0.44705886, 0.38755772, 0.28951848],\n",
       "          [0.44705886, 0.38755772, 0.28951848],\n",
       "          ...,\n",
       "          [0.664778  , 0.661534  , 0.6412485 ],\n",
       "          [0.664778  , 0.661534  , 0.6412485 ],\n",
       "          [0.664778  , 0.661534  , 0.6412485 ]],\n",
       " \n",
       "         ...,\n",
       " \n",
       "         [[0.31764707, 0.279109  , 0.18499134],\n",
       "          [0.31764707, 0.279109  , 0.18499134],\n",
       "          [0.31764707, 0.279109  , 0.18499134],\n",
       "          ...,\n",
       "          [0.4334054 , 0.41771913, 0.42488465],\n",
       "          [0.4334054 , 0.41771913, 0.42488465],\n",
       "          [0.4334054 , 0.41771913, 0.42488465]],\n",
       " \n",
       "         [[0.31734532, 0.28235295, 0.18853709],\n",
       "          [0.31734532, 0.28235295, 0.18853709],\n",
       "          [0.31734532, 0.28235295, 0.18853709],\n",
       "          ...,\n",
       "          [0.44524974, 0.42956346, 0.43348503],\n",
       "          [0.44524974, 0.42956346, 0.43348503],\n",
       "          [0.44524974, 0.42956346, 0.43348503]],\n",
       " \n",
       "         [[0.31379956, 0.28235295, 0.19208282],\n",
       "          [0.31379956, 0.28235295, 0.19208282],\n",
       "          [0.31379956, 0.28235295, 0.19208282],\n",
       "          ...,\n",
       "          [0.4700699 , 0.4543836 , 0.45830518],\n",
       "          [0.4700699 , 0.4543836 , 0.45830518],\n",
       "          [0.4700699 , 0.4543836 , 0.45830518]]]], dtype=float32),\n",
       " (64, 64, 3))"
      ]
     },
     "execution_count": 7,
     "metadata": {},
     "output_type": "execute_result"
    }
   ],
   "source": [
    "# Get the first two images\n",
    "images[:2], images[0].shape\n",
    "     "
   ]
  },
  {
   "cell_type": "code",
   "execution_count": 24,
   "id": "99fd2150",
   "metadata": {},
   "outputs": [
    {
     "name": "stdout",
     "output_type": "stream",
     "text": [
      "Model: \"sequential_4\"\n",
      "_________________________________________________________________\n",
      " Layer (type)                Output Shape              Param #   \n",
      "=================================================================\n",
      " conv2d_44 (Conv2D)          (None, 60, 60, 16)        1216      \n",
      "                                                                 \n",
      " conv2d_45 (Conv2D)          (None, 58, 58, 16)        2320      \n",
      "                                                                 \n",
      " conv2d_46 (Conv2D)          (None, 56, 56, 16)        2320      \n",
      "                                                                 \n",
      " batch_normalization_12 (Ba  (None, 56, 56, 16)        64        \n",
      " tchNormalization)                                               \n",
      "                                                                 \n",
      " max_pooling2d_8 (MaxPoolin  (None, 28, 28, 16)        0         \n",
      " g2D)                                                            \n",
      "                                                                 \n",
      " conv2d_47 (Conv2D)          (None, 26, 26, 32)        4640      \n",
      "                                                                 \n",
      " conv2d_48 (Conv2D)          (None, 24, 24, 32)        9248      \n",
      "                                                                 \n",
      " conv2d_49 (Conv2D)          (None, 22, 22, 32)        9248      \n",
      "                                                                 \n",
      " conv2d_50 (Conv2D)          (None, 20, 20, 32)        9248      \n",
      "                                                                 \n",
      " batch_normalization_13 (Ba  (None, 20, 20, 32)        128       \n",
      " tchNormalization)                                               \n",
      "                                                                 \n",
      " max_pooling2d_9 (MaxPoolin  (None, 10, 10, 32)        0         \n",
      " g2D)                                                            \n",
      "                                                                 \n",
      " conv2d_51 (Conv2D)          (None, 8, 8, 64)          18496     \n",
      "                                                                 \n",
      " conv2d_52 (Conv2D)          (None, 6, 6, 64)          36928     \n",
      "                                                                 \n",
      " conv2d_53 (Conv2D)          (None, 4, 4, 64)          36928     \n",
      "                                                                 \n",
      " conv2d_54 (Conv2D)          (None, 1, 1, 64)          65600     \n",
      "                                                                 \n",
      " batch_normalization_14 (Ba  (None, 1, 1, 64)          256       \n",
      " tchNormalization)                                               \n",
      "                                                                 \n",
      " dropout_4 (Dropout)         (None, 1, 1, 64)          0         \n",
      "                                                                 \n",
      " flatten_4 (Flatten)         (None, 64)                0         \n",
      "                                                                 \n",
      " dense_4 (Dense)             (None, 10)                650       \n",
      "                                                                 \n",
      "=================================================================\n",
      "Total params: 197290 (770.66 KB)\n",
      "Trainable params: 197066 (769.79 KB)\n",
      "Non-trainable params: 224 (896.00 Byte)\n",
      "_________________________________________________________________\n"
     ]
    }
   ],
   "source": [
    "## setting the model layers:\n",
    "\n",
    "model = tf.keras.Sequential([\n",
    "    tf.keras.layers.Conv2D(16,(5,5),activation = \"relu\", input_shape = (64,64,3)),\n",
    "    tf.keras.layers.Conv2D(16,(3,3),activation = \"relu\"),\n",
    "    tf.keras.layers.Conv2D(16,(3,3),activation = \"relu\"),\n",
    "    tf.keras.layers.BatchNormalization(),\n",
    "    tf.keras.layers.MaxPooling2D(2,2),\n",
    "    #28\n",
    "    tf.keras.layers.Conv2D(32,(3,3),activation = \"relu\"),\n",
    "    tf.keras.layers.Conv2D(32,(3,3),activation = \"relu\"),\n",
    "    tf.keras.layers.Conv2D(32,(3,3),activation = \"relu\"),\n",
    "    tf.keras.layers.Conv2D(32,(3,3),activation = \"relu\"),\n",
    "    tf.keras.layers.BatchNormalization(),\n",
    "    tf.keras.layers.MaxPooling2D(2,2),\n",
    "    #10,52\n",
    "    tf.keras.layers.Conv2D(64,(3,3),activation = \"relu\"),\n",
    "    tf.keras.layers.Conv2D(64,(3,3), activation = \"relu\"),\n",
    "    tf.keras.layers.Conv2D(64,(3,3), activation = \"relu\"),\n",
    "    tf.keras.layers.Conv2D(64,(4,4),activation = \"relu\"),\n",
    "    tf.keras.layers.BatchNormalization(),\n",
    "    tf.keras.layers.Dropout(0.2),\n",
    "    #61\n",
    "    tf.keras.layers.Flatten(),\n",
    "    tf.keras.layers.Dense(10, activation = \"softmax\"),\n",
    "    \n",
    "])\n",
    "model.summary()"
   ]
  },
  {
   "cell_type": "code",
   "execution_count": 26,
   "id": "b5e0c5c7",
   "metadata": {},
   "outputs": [],
   "source": [
    "## setting callback function:\n",
    "from tensorflow.keras.callbacks import ModelCheckpoint\n",
    "import datetime\n",
    "\n",
    "## creating the callback functions:\n",
    "time = datetime.datetime.now().strftime('%Y%m%d-%H%M%S')\n",
    " \n",
    "#checkpoint:\n",
    "checkpointer = ModelCheckpoint(filepath= f\"{time}_cfar_10_agu_model.weights.best.hdf5\",\n",
    "                               verbose=1,save_best_only=True)\n",
    "\n",
    "\n",
    "Earlystop = tf.keras.callbacks.EarlyStopping(monitor=\"val_loss\",patience=3,verbose=2)\n",
    "\n",
    "callbacks=[checkpointer,Earlystop]"
   ]
  },
  {
   "cell_type": "code",
   "execution_count": 27,
   "id": "740e2f81",
   "metadata": {},
   "outputs": [
    {
     "name": "stdout",
     "output_type": "stream",
     "text": [
      "Epoch 1/20\n",
      "938/938 [==============================] - ETA: 0s - loss: 1.9199 - accuracy: 0.2828\n",
      "Epoch 1: val_loss improved from inf to 2.72292, saving model to 20230723-221106_cfar_10_agu_model.weights.best.hdf5\n"
     ]
    },
    {
     "name": "stderr",
     "output_type": "stream",
     "text": [
      "C:\\ProgramData\\Anaconda3\\lib\\site-packages\\keras\\src\\engine\\training.py:3000: UserWarning: You are saving your model as an HDF5 file via `model.save()`. This file format is considered legacy. We recommend using instead the native Keras format, e.g. `model.save('my_model.keras')`.\n",
      "  saving_api.save_model(\n"
     ]
    },
    {
     "name": "stdout",
     "output_type": "stream",
     "text": [
      "938/938 [==============================] - 701s 732ms/step - loss: 1.9199 - accuracy: 0.2828 - val_loss: 2.7229 - val_accuracy: 0.2386\n",
      "Epoch 2/20\n",
      "938/938 [==============================] - ETA: 0s - loss: 1.6313 - accuracy: 0.4016\n",
      "Epoch 2: val_loss improved from 2.72292 to 1.66652, saving model to 20230723-221106_cfar_10_agu_model.weights.best.hdf5\n",
      "938/938 [==============================] - 735s 783ms/step - loss: 1.6313 - accuracy: 0.4016 - val_loss: 1.6665 - val_accuracy: 0.4087\n",
      "Epoch 3/20\n",
      "938/938 [==============================] - ETA: 0s - loss: 1.4887 - accuracy: 0.4600\n",
      "Epoch 3: val_loss improved from 1.66652 to 1.45769, saving model to 20230723-221106_cfar_10_agu_model.weights.best.hdf5\n",
      "938/938 [==============================] - 736s 783ms/step - loss: 1.4887 - accuracy: 0.4600 - val_loss: 1.4577 - val_accuracy: 0.4637\n",
      "Epoch 4/20\n",
      "938/938 [==============================] - ETA: 0s - loss: 1.3882 - accuracy: 0.5025\n",
      "Epoch 4: val_loss improved from 1.45769 to 1.30314, saving model to 20230723-221106_cfar_10_agu_model.weights.best.hdf5\n",
      "938/938 [==============================] - 841s 896ms/step - loss: 1.3882 - accuracy: 0.5025 - val_loss: 1.3031 - val_accuracy: 0.5286\n",
      "Epoch 5/20\n",
      "938/938 [==============================] - ETA: 0s - loss: 1.3156 - accuracy: 0.5300\n",
      "Epoch 5: val_loss did not improve from 1.30314\n",
      "938/938 [==============================] - 808s 862ms/step - loss: 1.3156 - accuracy: 0.5300 - val_loss: 1.4254 - val_accuracy: 0.4990\n",
      "Epoch 6/20\n",
      "938/938 [==============================] - ETA: 0s - loss: 1.2549 - accuracy: 0.5542\n",
      "Epoch 6: val_loss improved from 1.30314 to 1.22727, saving model to 20230723-221106_cfar_10_agu_model.weights.best.hdf5\n",
      "938/938 [==============================] - 843s 898ms/step - loss: 1.2549 - accuracy: 0.5542 - val_loss: 1.2273 - val_accuracy: 0.5586\n",
      "Epoch 7/20\n",
      "938/938 [==============================] - ETA: 0s - loss: 1.2088 - accuracy: 0.5708\n",
      "Epoch 7: val_loss did not improve from 1.22727\n",
      "938/938 [==============================] - 656s 699ms/step - loss: 1.2088 - accuracy: 0.5708 - val_loss: 1.2959 - val_accuracy: 0.5566\n",
      "Epoch 8/20\n",
      "938/938 [==============================] - ETA: 0s - loss: 1.1658 - accuracy: 0.5907\n",
      "Epoch 8: val_loss did not improve from 1.22727\n",
      "938/938 [==============================] - 600s 639ms/step - loss: 1.1658 - accuracy: 0.5907 - val_loss: 1.2859 - val_accuracy: 0.5494\n",
      "Epoch 9/20\n",
      "938/938 [==============================] - ETA: 0s - loss: 1.1343 - accuracy: 0.6032\n",
      "Epoch 9: val_loss improved from 1.22727 to 1.11501, saving model to 20230723-221106_cfar_10_agu_model.weights.best.hdf5\n",
      "938/938 [==============================] - 457s 488ms/step - loss: 1.1343 - accuracy: 0.6032 - val_loss: 1.1150 - val_accuracy: 0.6084\n",
      "Epoch 10/20\n",
      "938/938 [==============================] - ETA: 0s - loss: 1.1067 - accuracy: 0.6098\n",
      "Epoch 10: val_loss did not improve from 1.11501\n",
      "938/938 [==============================] - 589s 628ms/step - loss: 1.1067 - accuracy: 0.6098 - val_loss: 1.2202 - val_accuracy: 0.5857\n",
      "Epoch 11/20\n",
      "938/938 [==============================] - ETA: 0s - loss: 1.0825 - accuracy: 0.6185\n",
      "Epoch 11: val_loss improved from 1.11501 to 1.11161, saving model to 20230723-221106_cfar_10_agu_model.weights.best.hdf5\n",
      "938/938 [==============================] - 840s 895ms/step - loss: 1.0825 - accuracy: 0.6185 - val_loss: 1.1116 - val_accuracy: 0.6100\n",
      "Epoch 12/20\n",
      "938/938 [==============================] - ETA: 0s - loss: 1.0547 - accuracy: 0.6272\n",
      "Epoch 12: val_loss improved from 1.11161 to 1.05925, saving model to 20230723-221106_cfar_10_agu_model.weights.best.hdf5\n",
      "938/938 [==============================] - 673s 716ms/step - loss: 1.0547 - accuracy: 0.6272 - val_loss: 1.0592 - val_accuracy: 0.6223\n",
      "Epoch 13/20\n",
      "938/938 [==============================] - ETA: 0s - loss: 1.0366 - accuracy: 0.6339\n",
      "Epoch 13: val_loss improved from 1.05925 to 1.02750, saving model to 20230723-221106_cfar_10_agu_model.weights.best.hdf5\n",
      "938/938 [==============================] - 830s 885ms/step - loss: 1.0366 - accuracy: 0.6339 - val_loss: 1.0275 - val_accuracy: 0.6374\n",
      "Epoch 14/20\n",
      "938/938 [==============================] - ETA: 0s - loss: 1.0186 - accuracy: 0.6428\n",
      "Epoch 14: val_loss did not improve from 1.02750\n",
      "938/938 [==============================] - 653s 696ms/step - loss: 1.0186 - accuracy: 0.6428 - val_loss: 1.1789 - val_accuracy: 0.5949\n",
      "Epoch 15/20\n",
      "938/938 [==============================] - ETA: 0s - loss: 0.9995 - accuracy: 0.6502\n",
      "Epoch 15: val_loss did not improve from 1.02750\n",
      "938/938 [==============================] - 724s 771ms/step - loss: 0.9995 - accuracy: 0.6502 - val_loss: 1.0835 - val_accuracy: 0.6305\n",
      "Epoch 16/20\n",
      "938/938 [==============================] - ETA: 0s - loss: 0.9898 - accuracy: 0.6542\n",
      "Epoch 16: val_loss did not improve from 1.02750\n",
      "938/938 [==============================] - 743s 791ms/step - loss: 0.9898 - accuracy: 0.6542 - val_loss: 1.0408 - val_accuracy: 0.6324\n",
      "Epoch 16: early stopping\n"
     ]
    }
   ],
   "source": [
    "# compiling the model:\n",
    "\n",
    "model.compile(optimizer=\"Adam\", loss='categorical_crossentropy', metrics=['accuracy'])\n",
    "\n",
    "## fitting the model:\n",
    "\n",
    "history=model.fit(train_data,validation_data=valid_data,\n",
    "                  validation_steps=int(len(valid_data)),\n",
    "                  steps_per_epoch=int(len(train_data)),\n",
    "                  batch_size=32,\n",
    "                  epochs=20,\n",
    "                  callbacks=callbacks) \n"
   ]
  },
  {
   "cell_type": "code",
   "execution_count": 34,
   "id": "5b9a86f2",
   "metadata": {},
   "outputs": [
    {
     "name": "stdout",
     "output_type": "stream",
     "text": [
      "625/625 [==============================] - 95s 151ms/step - loss: 1.0408 - accuracy: 0.6324\n"
     ]
    },
    {
     "data": {
      "text/plain": [
       "[1.0408122539520264, 0.6323999762535095]"
      ]
     },
     "execution_count": 34,
     "metadata": {},
     "output_type": "execute_result"
    }
   ],
   "source": [
    "model.evaluate(valid_data)\n",
    "#20230723-221106_cfar_10_agu_model.weights.best.hdf5"
   ]
  },
  {
   "cell_type": "markdown",
   "id": "138956a8",
   "metadata": {},
   "source": [
    "# model_2"
   ]
  },
  {
   "cell_type": "code",
   "execution_count": 35,
   "id": "9a8af9a4",
   "metadata": {},
   "outputs": [
    {
     "name": "stdout",
     "output_type": "stream",
     "text": [
      "Model: \"sequential_6\"\n",
      "_________________________________________________________________\n",
      " Layer (type)                Output Shape              Param #   \n",
      "=================================================================\n",
      " conv2d_59 (Conv2D)          (None, 64, 64, 32)        896       \n",
      "                                                                 \n",
      " max_pooling2d_13 (MaxPooli  (None, 32, 32, 32)        0         \n",
      " ng2D)                                                           \n",
      "                                                                 \n",
      " conv2d_60 (Conv2D)          (None, 32, 32, 64)        18496     \n",
      "                                                                 \n",
      " max_pooling2d_14 (MaxPooli  (None, 16, 16, 64)        0         \n",
      " ng2D)                                                           \n",
      "                                                                 \n",
      " conv2d_61 (Conv2D)          (None, 16, 16, 128)       73856     \n",
      "                                                                 \n",
      " max_pooling2d_15 (MaxPooli  (None, 8, 8, 128)         0         \n",
      " ng2D)                                                           \n",
      "                                                                 \n",
      " conv2d_62 (Conv2D)          (None, 8, 8, 256)         295168    \n",
      "                                                                 \n",
      " max_pooling2d_16 (MaxPooli  (None, 4, 4, 256)         0         \n",
      " ng2D)                                                           \n",
      "                                                                 \n",
      " flatten_6 (Flatten)         (None, 4096)              0         \n",
      "                                                                 \n",
      " dense_6 (Dense)             (None, 10)                40970     \n",
      "                                                                 \n",
      "=================================================================\n",
      "Total params: 429386 (1.64 MB)\n",
      "Trainable params: 429386 (1.64 MB)\n",
      "Non-trainable params: 0 (0.00 Byte)\n",
      "_________________________________________________________________\n"
     ]
    }
   ],
   "source": [
    "model_2 = tf.keras.Sequential([\n",
    "tf.keras.layers.Conv2D(32,kernel_size=(3,3),padding=\"same\",activation=\"LeakyReLU\",input_shape=(64,64,3)),\n",
    "tf.keras.layers.MaxPooling2D(pool_size= (2,2)),\n",
    "tf.keras.layers.Conv2D(64, kernel_size=(3,3),padding =\"same\" ,activation=\"LeakyReLU\"),\n",
    "tf.keras.layers.MaxPooling2D(pool_size= (2,2)),\n",
    "tf.keras.layers.Conv2D(128, kernel_size=(3,3),padding =\"same\" ,activation=\"LeakyReLU\"),\n",
    "tf.keras.layers.MaxPooling2D(pool_size= (2,2)),\n",
    "tf.keras.layers.Conv2D(256, kernel_size=(3,3),padding =\"same\" ,activation=\"LeakyReLU\"),\n",
    "tf.keras.layers.MaxPooling2D(pool_size= (2,2)),\n",
    "\n",
    "\n",
    "tf.keras.layers.Flatten(),\n",
    "tf.keras.layers.Dense(10,activation='softmax'), ])\n",
    "\n",
    "\n",
    "model_2.summary()"
   ]
  },
  {
   "cell_type": "code",
   "execution_count": 36,
   "id": "2f434bc5",
   "metadata": {},
   "outputs": [],
   "source": [
    "## setting callback function:\n",
    "from tensorflow.keras.callbacks import ModelCheckpoint\n",
    "import datetime\n",
    "\n",
    "## creating the callback functions:\n",
    "time = datetime.datetime.now().strftime('%Y%m%d-%H%M%S')\n",
    " \n",
    "#checkpoint:\n",
    "checkpointer = ModelCheckpoint(filepath= f\"{time}_cfar_10_agu_model_2.weights.best.hdf5\",\n",
    "                               verbose=1,save_best_only=True)\n",
    "\n",
    "\n",
    "Earlystop = tf.keras.callbacks.EarlyStopping(monitor=\"val_loss\",patience=3,verbose=2)\n",
    "\n",
    "callbacks=[checkpointer,Earlystop]"
   ]
  },
  {
   "cell_type": "code",
   "execution_count": 37,
   "id": "bc4c7a1f",
   "metadata": {},
   "outputs": [
    {
     "name": "stdout",
     "output_type": "stream",
     "text": [
      "Epoch 1/20\n",
      "938/938 [==============================] - ETA: 0s - loss: 1.6330 - accuracy: 0.4061\n",
      "Epoch 1: val_loss improved from inf to 1.29980, saving model to 20230724-152503_cfar_10_agu_model_2.weights.best.hdf5\n",
      "938/938 [==============================] - 912s 920ms/step - loss: 1.6330 - accuracy: 0.4061 - val_loss: 1.2998 - val_accuracy: 0.5378\n",
      "Epoch 2/20\n",
      "938/938 [==============================] - ETA: 0s - loss: 1.2497 - accuracy: 0.5626\n",
      "Epoch 2: val_loss improved from 1.29980 to 1.09465, saving model to 20230724-152503_cfar_10_agu_model_2.weights.best.hdf5\n",
      "938/938 [==============================] - 483s 514ms/step - loss: 1.2497 - accuracy: 0.5626 - val_loss: 1.0946 - val_accuracy: 0.6098\n",
      "Epoch 3/20\n",
      "938/938 [==============================] - ETA: 0s - loss: 1.0897 - accuracy: 0.6178\n",
      "Epoch 3: val_loss improved from 1.09465 to 1.00252, saving model to 20230724-152503_cfar_10_agu_model_2.weights.best.hdf5\n",
      "938/938 [==============================] - 483s 515ms/step - loss: 1.0897 - accuracy: 0.6178 - val_loss: 1.0025 - val_accuracy: 0.6425\n",
      "Epoch 4/20\n",
      "938/938 [==============================] - ETA: 0s - loss: 1.0016 - accuracy: 0.6508\n",
      "Epoch 4: val_loss improved from 1.00252 to 0.99842, saving model to 20230724-152503_cfar_10_agu_model_2.weights.best.hdf5\n",
      "938/938 [==============================] - 464s 495ms/step - loss: 1.0016 - accuracy: 0.6508 - val_loss: 0.9984 - val_accuracy: 0.6503\n",
      "Epoch 5/20\n",
      "938/938 [==============================] - ETA: 0s - loss: 0.9397 - accuracy: 0.6717\n",
      "Epoch 5: val_loss improved from 0.99842 to 0.93280, saving model to 20230724-152503_cfar_10_agu_model_2.weights.best.hdf5\n",
      "938/938 [==============================] - 427s 455ms/step - loss: 0.9397 - accuracy: 0.6717 - val_loss: 0.9328 - val_accuracy: 0.6844\n",
      "Epoch 6/20\n",
      "938/938 [==============================] - ETA: 0s - loss: 0.8833 - accuracy: 0.6933\n",
      "Epoch 6: val_loss improved from 0.93280 to 0.90365, saving model to 20230724-152503_cfar_10_agu_model_2.weights.best.hdf5\n",
      "938/938 [==============================] - 434s 463ms/step - loss: 0.8833 - accuracy: 0.6933 - val_loss: 0.9037 - val_accuracy: 0.6854\n",
      "Epoch 7/20\n",
      "938/938 [==============================] - ETA: 0s - loss: 0.8531 - accuracy: 0.7065\n",
      "Epoch 7: val_loss did not improve from 0.90365\n",
      "938/938 [==============================] - 512s 546ms/step - loss: 0.8531 - accuracy: 0.7065 - val_loss: 0.9328 - val_accuracy: 0.6738\n",
      "Epoch 8/20\n",
      "938/938 [==============================] - ETA: 0s - loss: 0.8159 - accuracy: 0.7176\n",
      "Epoch 8: val_loss improved from 0.90365 to 0.87982, saving model to 20230724-152503_cfar_10_agu_model_2.weights.best.hdf5\n",
      "938/938 [==============================] - 677s 721ms/step - loss: 0.8159 - accuracy: 0.7176 - val_loss: 0.8798 - val_accuracy: 0.6982\n",
      "Epoch 9/20\n",
      "938/938 [==============================] - ETA: 0s - loss: 0.7989 - accuracy: 0.7235\n",
      "Epoch 9: val_loss improved from 0.87982 to 0.81436, saving model to 20230724-152503_cfar_10_agu_model_2.weights.best.hdf5\n",
      "938/938 [==============================] - 617s 657ms/step - loss: 0.7989 - accuracy: 0.7235 - val_loss: 0.8144 - val_accuracy: 0.7263\n",
      "Epoch 10/20\n",
      "938/938 [==============================] - ETA: 0s - loss: 0.7736 - accuracy: 0.7312\n",
      "Epoch 10: val_loss did not improve from 0.81436\n",
      "938/938 [==============================] - 564s 600ms/step - loss: 0.7736 - accuracy: 0.7312 - val_loss: 0.8318 - val_accuracy: 0.7175\n",
      "Epoch 11/20\n",
      "938/938 [==============================] - ETA: 0s - loss: 0.7578 - accuracy: 0.7391\n",
      "Epoch 11: val_loss did not improve from 0.81436\n",
      "938/938 [==============================] - 566s 603ms/step - loss: 0.7578 - accuracy: 0.7391 - val_loss: 0.8281 - val_accuracy: 0.7172\n",
      "Epoch 12/20\n",
      "938/938 [==============================] - ETA: 0s - loss: 0.7416 - accuracy: 0.7448\n",
      "Epoch 12: val_loss improved from 0.81436 to 0.79001, saving model to 20230724-152503_cfar_10_agu_model_2.weights.best.hdf5\n",
      "938/938 [==============================] - 509s 542ms/step - loss: 0.7416 - accuracy: 0.7448 - val_loss: 0.7900 - val_accuracy: 0.7312\n",
      "Epoch 13/20\n",
      "938/938 [==============================] - ETA: 0s - loss: 0.7187 - accuracy: 0.7504\n",
      "Epoch 13: val_loss did not improve from 0.79001\n",
      "938/938 [==============================] - 466s 497ms/step - loss: 0.7187 - accuracy: 0.7504 - val_loss: 0.8577 - val_accuracy: 0.7184\n",
      "Epoch 14/20\n",
      "938/938 [==============================] - ETA: 0s - loss: 0.6998 - accuracy: 0.7622\n",
      "Epoch 14: val_loss did not improve from 0.79001\n",
      "938/938 [==============================] - 416s 444ms/step - loss: 0.6998 - accuracy: 0.7622 - val_loss: 0.7977 - val_accuracy: 0.7307\n",
      "Epoch 15/20\n",
      "938/938 [==============================] - ETA: 0s - loss: 0.6921 - accuracy: 0.7604\n",
      "Epoch 15: val_loss did not improve from 0.79001\n",
      "938/938 [==============================] - 445s 474ms/step - loss: 0.6921 - accuracy: 0.7604 - val_loss: 0.7955 - val_accuracy: 0.7282\n",
      "Epoch 15: early stopping\n"
     ]
    }
   ],
   "source": [
    "# compiling the model:\n",
    "\n",
    "model_2.compile(optimizer=\"Adam\", loss='categorical_crossentropy', metrics=['accuracy'])\n",
    "\n",
    "## fitting the model:\n",
    "\n",
    "history_2 = model_2.fit(train_data,validation_data=valid_data,\n",
    "                  validation_steps=int(len(valid_data)),\n",
    "                  steps_per_epoch=int(len(train_data)),\n",
    "                  batch_size=32,\n",
    "                  epochs=20,\n",
    "                  callbacks=callbacks) "
   ]
  },
  {
   "cell_type": "code",
   "execution_count": 179,
   "id": "e22b56d7",
   "metadata": {},
   "outputs": [
    {
     "data": {
      "image/png": "[encoded data removed]",
      "text/plain": [
       "<Figure size 432x288 with 1 Axes>"
      ]
     },
     "metadata": {
      "needs_background": "light"
     },
     "output_type": "display_data"
    },
    {
     "data": {
      "image/png": "[encoded data removed]",
      "text/plain": [
       "<Figure size 432x288 with 1 Axes>"
      ]
     },
     "metadata": {
      "needs_background": "light"
     },
     "output_type": "display_data"
    }
   ],
   "source": [
    "# summarize history for accuracy\n",
    "plt.plot(history_2.history['accuracy'])\n",
    "plt.plot(history_2.history['val_accuracy'])\n",
    "plt.title('model accuracy')\n",
    "plt.ylabel('accuracy')\n",
    "plt.xlabel('epoch')\n",
    "plt.legend(['train', 'validation'], loc='upper left')\n",
    "plt.show()\n",
    "# summarize history for loss\n",
    "plt.plot(history_2.history['loss'])\n",
    "plt.plot(history_2.history['val_loss'])\n",
    "plt.title('model loss')\n",
    "plt.ylabel('loss')\n",
    "plt.xlabel('epoch')\n",
    "plt.legend(['train', 'validation'], loc='upper right')\n",
    "plt.show()"
   ]
  },
  {
   "cell_type": "markdown",
   "id": "d48a9e5f",
   "metadata": {},
   "source": [
    "## Loading model:"
   ]
  },
  {
   "cell_type": "code",
   "execution_count": 41,
   "id": "f605bc59",
   "metadata": {},
   "outputs": [],
   "source": [
    "load_model = tf.keras.models.load_model(\"20230724-152503_cfar_10_agu_model_2.weights.best.hdf5\")"
   ]
  },
  {
   "cell_type": "markdown",
   "id": "b8736c86",
   "metadata": {},
   "source": [
    "### Calculate the Classification Accuracy on the vlaidation set and Test Set\n"
   ]
  },
  {
   "cell_type": "code",
   "execution_count": 43,
   "id": "95fff5f6",
   "metadata": {},
   "outputs": [
    {
     "name": "stdout",
     "output_type": "stream",
     "text": [
      "validation accuracy: 73.1250%\n"
     ]
    }
   ],
   "source": [
    "#evaluate validation accuracy:\n",
    "val_score = load_model.evaluate(valid_data, verbose=0)\n",
    "val_accuracy = 100*val_score[1]\n",
    "# print test accuracy\n",
    "print('validation accuracy: %.4f%%' % val_accuracy)\n"
   ]
  },
  {
   "cell_type": "markdown",
   "id": "165aba8e",
   "metadata": {},
   "source": [
    "## let's make some prediction"
   ]
  },
  {
   "cell_type": "code",
   "execution_count": 62,
   "id": "e6deb7a0",
   "metadata": {},
   "outputs": [],
   "source": [
    "## calling test file:\n",
    "test_file_path = \"Assignment_2/cfar_10_test/\""
   ]
  },
  {
   "cell_type": "code",
   "execution_count": 168,
   "id": "ee0b0ffc",
   "metadata": {},
   "outputs": [
    {
     "name": "stdout",
     "output_type": "stream",
     "text": [
      "actual: truck\n",
      "(64, 64, 3)\n"
     ]
    }
   ],
   "source": [
    "### total number of classification inside test_file_path\n",
    "test_file_labels = os.listdir(test_file_path)\n",
    "\n",
    "#calling random label folder:\n",
    "randum = random.choice(test_file_labels)\n",
    "print(\"actual:\", randum)\n",
    "# from randum selected folder calling on all images\n",
    "image_path = f\"{test_file_path}{randum}\"\n",
    "image_path_file_call = os.listdir(image_path)\n",
    "\n",
    "# from image_path randomly calling  select on image:\n",
    "randum_image = random.choice(range(len(image_path_file_call)))\n",
    "\n",
    "# random image:\n",
    "image = f\"{image_path}/{image_path_file_call[randum_image]}\"\n",
    "# print image\n",
    "image = plt.imread(image)\n",
    "print(image.shape)"
   ]
  },
  {
   "cell_type": "code",
   "execution_count": 169,
   "id": "87690cf8",
   "metadata": {},
   "outputs": [
    {
     "name": "stdout",
     "output_type": "stream",
     "text": [
      "(1, 64, 64, 3)\n",
      "1/1 [==============================] - 0s 53ms/step\n"
     ]
    }
   ],
   "source": [
    "image_dimension_expansion = tf.expand_dims(image, axis=0)\n",
    "print(image_dimension_expansion.shape)\n",
    "pred_image = load_model.predict(image_dimension_expansion)"
   ]
  },
  {
   "cell_type": "code",
   "execution_count": 170,
   "id": "59da48d0",
   "metadata": {},
   "outputs": [],
   "source": [
    "## reduced the dimesion:\n",
    "x = tf.reshape(pred_image, [-1])\n",
    "x = tf.argmax(x)\n",
    "# predicted label:\n",
    "pred_label=test_file_labels[x]\n"
   ]
  },
  {
   "cell_type": "code",
   "execution_count": 173,
   "id": "4c4f178d",
   "metadata": {},
   "outputs": [
    {
     "data": {
      "image/png": "[encoded data removed]",
      "text/plain": [
       "<Figure size 432x288 with 1 Axes>"
      ]
     },
     "metadata": {
      "needs_background": "light"
     },
     "output_type": "display_data"
    }
   ],
   "source": [
    "if pred_label== randum: # randum is actual_label\n",
    "    color=\"green\"\n",
    "else :\n",
    "    color=\"red\"\n",
    "plt.imshow(image)\n",
    "plt.title(\"Prediction: {} \\nTrue_label: {}\".format(pred_label, randum),color=color,size=12)\n",
    "plt.axis(False);"
   ]
  },
  {
   "cell_type": "code",
   "execution_count": null,
   "id": "fb929237",
   "metadata": {},
   "outputs": [],
   "source": []
  },
  {
   "cell_type": "code",
   "execution_count": null,
   "id": "7b4f282d",
   "metadata": {},
   "outputs": [],
   "source": []
  },
  {
   "cell_type": "code",
   "execution_count": null,
   "id": "179e92dd",
   "metadata": {},
   "outputs": [],
   "source": []
  },
  {
   "cell_type": "code",
   "execution_count": null,
   "id": "5eee9684",
   "metadata": {},
   "outputs": [],
   "source": []
  }
 ],
 "metadata": {
  "kernelspec": {
   "display_name": "Python 3 (ipykernel)",
   "language": "python",
   "name": "python3"
  },
  "language_info": {
   "codemirror_mode": {
    "name": "ipython",
    "version": 3
   },
   "file_extension": ".py",
   "mimetype": "text/x-python",
   "name": "python",
   "nbconvert_exporter": "python",
   "pygments_lexer": "ipython3",
   "version": "3.9.12"
  }
 },
 "nbformat": 4,
 "nbformat_minor": 5
}
